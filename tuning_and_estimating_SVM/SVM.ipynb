{
 "cells": [
  {
   "cell_type": "markdown",
   "metadata": {
    "colab_type": "text",
    "id": "4kum_EfNLCJT"
   },
   "source": [
    "# Support Vector Machine Classifier (SVM, SVC)"
   ]
  },
  {
   "cell_type": "markdown",
   "metadata": {
    "colab_type": "text",
    "id": "EIXftskxLCJT"
   },
   "source": [
    "Support vector machines are supervised learning models with associated learning algorithms that analyze data used for classification and regression analysis."
   ]
  },
  {
   "cell_type": "code",
   "execution_count": 100,
   "metadata": {
    "colab": {},
    "colab_type": "code",
    "id": "x5jtsaftLCJV"
   },
   "outputs": [],
   "source": [
    "import copy\n",
    "import time\n",
    "\n",
    "import pandas as pd\n",
    "import numpy as np\n",
    "\n",
    "from sklearn.svm import SVC # \"Support vector classifier\"\n",
    "from sklearn.model_selection import train_test_split\n",
    "from sklearn.datasets import make_moons, make_blobs, make_circles\n",
    "from sklearn.metrics import accuracy_score, precision_score, recall_score, f1_score\n",
    "\n",
    "%matplotlib inline\n",
    "import matplotlib.pyplot as plt\n",
    "import seaborn as sn\n",
    "\n",
    "import warnings\n",
    "from sklearn.exceptions import UndefinedMetricWarning"
   ]
  },
  {
   "cell_type": "code",
   "execution_count": 31,
   "metadata": {
    "colab": {},
    "colab_type": "code",
    "id": "b2TKtNLVLCJb"
   },
   "outputs": [],
   "source": [
    "def plot_svc_decision_function(model, ax=None, plot_support=True):\n",
    "    \"\"\"Plot the decision function for a 2D SVC\"\"\"\n",
    "    if ax is None:\n",
    "        ax = plt.gca()\n",
    "    xlim = ax.get_xlim()\n",
    "    ylim = ax.get_ylim()\n",
    "    \n",
    "    # create grid to evaluate model\n",
    "    x = np.linspace(xlim[0], xlim[1], 30)\n",
    "    y = np.linspace(ylim[0], ylim[1], 30)\n",
    "    Y, X = np.meshgrid(y, x)\n",
    "    xy = np.vstack([X.ravel(), Y.ravel()]).T\n",
    "    P = model.decision_function(xy).reshape(X.shape)\n",
    "    \n",
    "    # plot decision boundary and margins\n",
    "    ax.contour(X, Y, P, colors='k',\n",
    "               levels=[-1, 0, 1], alpha=0.5,\n",
    "               linestyles=['--', '-', '--'])\n",
    "    \n",
    "    # plot support vectors\n",
    "    if plot_support:\n",
    "        ax.scatter(model.support_vectors_[:, 0],\n",
    "                   model.support_vectors_[:, 1],\n",
    "                   s=300, linewidth=1, facecolors='none');\n",
    "    ax.set_xlim(xlim)\n",
    "    ax.set_ylim(ylim)"
   ]
  },
  {
   "cell_type": "code",
   "execution_count": 38,
   "metadata": {
    "colab": {
     "base_uri": "https://localhost:8080/",
     "height": 269
    },
    "colab_type": "code",
    "id": "YM1zNozPLCJq",
    "outputId": "8d2045b1-7f73-4e22-904e-6a6638617a85"
   },
   "outputs": [
    {
     "data": {
      "image/png": "[encoded data removed]",
      "text/plain": [
       "<Figure size 432x288 with 1 Axes>"
      ]
     },
     "metadata": {
      "needs_background": "light"
     },
     "output_type": "display_data"
    }
   ],
   "source": [
    "X, y = make_blobs(n_samples=300, centers=2, n_features=2,random_state=0)\n",
    "\n",
    "X_train, X_test, y_train, y_test = train_test_split(X, y, test_size=0.2)\n",
    "\n",
    "clf = SVC(kernel='linear').fit(X_train, y_train)\n",
    "\n",
    "plt.scatter(X_test[:, 0], X_test[:, 1], c=y_test, s=50, cmap='winter')\n",
    "\n",
    "plot_svc_decision_function(clf, plot_support=False);"
   ]
  },
  {
   "cell_type": "code",
   "execution_count": 39,
   "metadata": {
    "colab": {
     "base_uri": "https://localhost:8080/",
     "height": 86
    },
    "colab_type": "code",
    "id": "OC5eXkhC4_U4",
    "outputId": "ae2222f3-74d9-4a98-d9cf-59ea8a4fe41f"
   },
   "outputs": [
    {
     "name": "stdout",
     "output_type": "stream",
     "text": [
      "[1 0 1 1 0 0 0 0 1 0 0 0 0 0 0 0 0 1 0 0 1 0 0 0 1 0 1 0 0 0 0 1 1 0 0 0 0\n",
      " 0 0 0 0 1 1 0 1 0 1 1 1 1 1 1 0 0 1 1 0 0 1 1]\n",
      "[1 0 1 1 0 0 0 0 1 0 0 0 0 0 0 0 0 1 0 0 1 0 0 0 1 0 1 0 0 0 0 1 1 0 0 0 0\n",
      " 0 0 0 0 1 1 0 1 0 1 1 1 1 1 1 0 1 1 1 0 0 1 1]\n"
     ]
    }
   ],
   "source": [
    "# print(len(y))\n",
    "# print(len(X))\n",
    "\n",
    "# print(X[10])\n",
    "# print(y[10])\n",
    "\n",
    "print(y_test)\n",
    "print(clf.predict(X_test))"
   ]
  },
  {
   "cell_type": "code",
   "execution_count": 93,
   "metadata": {
    "colab": {
     "base_uri": "https://localhost:8080/",
     "height": 1000
    },
    "colab_type": "code",
    "id": "zj90UNsGLCJw",
    "outputId": "0d9ce6de-7c27-402a-ff91-a652b6f83399"
   },
   "outputs": [
    {
     "data": {
      "text/html": [
       "<div>\n",
       "<style scoped>\n",
       "    .dataframe tbody tr th:only-of-type {\n",
       "        vertical-align: middle;\n",
       "    }\n",
       "\n",
       "    .dataframe tbody tr th {\n",
       "        vertical-align: top;\n",
       "    }\n",
       "\n",
       "    .dataframe thead th {\n",
       "        text-align: right;\n",
       "    }\n",
       "</style>\n",
       "<table border=\"1\" class=\"dataframe\">\n",
       "  <thead>\n",
       "    <tr style=\"text-align: right;\">\n",
       "      <th></th>\n",
       "      <th>predicted</th>\n",
       "      <th>labels</th>\n",
       "      <th>correct</th>\n",
       "    </tr>\n",
       "  </thead>\n",
       "  <tbody>\n",
       "    <tr>\n",
       "      <th>6</th>\n",
       "      <td>0</td>\n",
       "      <td>0</td>\n",
       "      <td>True</td>\n",
       "    </tr>\n",
       "    <tr>\n",
       "      <th>53</th>\n",
       "      <td>1</td>\n",
       "      <td>0</td>\n",
       "      <td>False</td>\n",
       "    </tr>\n",
       "    <tr>\n",
       "      <th>21</th>\n",
       "      <td>0</td>\n",
       "      <td>0</td>\n",
       "      <td>True</td>\n",
       "    </tr>\n",
       "    <tr>\n",
       "      <th>29</th>\n",
       "      <td>0</td>\n",
       "      <td>0</td>\n",
       "      <td>True</td>\n",
       "    </tr>\n",
       "    <tr>\n",
       "      <th>36</th>\n",
       "      <td>0</td>\n",
       "      <td>0</td>\n",
       "      <td>True</td>\n",
       "    </tr>\n",
       "  </tbody>\n",
       "</table>\n",
       "</div>"
      ],
      "text/plain": [
       "    predicted  labels  correct\n",
       "6           0       0     True\n",
       "53          1       0    False\n",
       "21          0       0     True\n",
       "29          0       0     True\n",
       "36          0       0     True"
      ]
     },
     "execution_count": 93,
     "metadata": {},
     "output_type": "execute_result"
    }
   ],
   "source": [
    "def create_сomparison_table(clf, X, y):\n",
    "    df = pd.DataFrame()\n",
    "    df['predicted'] = clf.predict(X).astype(int)\n",
    "    df['labels'] = y.astype(int)\n",
    "    df['correct'] = np.where((df['predicted'] == df['labels']), True, False)\n",
    "    return df\n",
    "\n",
    "сomparison_table = create_сomparison_table(clf, X_test, y_test)\n",
    "сomparison_table.sample(5)"
   ]
  },
  {
   "cell_type": "code",
   "execution_count": 94,
   "metadata": {
    "colab": {},
    "colab_type": "code",
    "id": "QRnsha1LBymS"
   },
   "outputs": [
    {
     "data": {
      "text/plain": [
       "59"
      ]
     },
     "execution_count": 94,
     "metadata": {},
     "output_type": "execute_result"
    }
   ],
   "source": [
    "сomparison_table['correct'].sum()"
   ]
  },
  {
   "cell_type": "markdown",
   "metadata": {
    "colab_type": "text",
    "id": "OlhtlIaRLCJ4"
   },
   "source": [
    "# Machine Learning metrics"
   ]
  },
  {
   "cell_type": "markdown",
   "metadata": {
    "colab_type": "text",
    "id": "etqJHN_qLCJ5"
   },
   "source": [
    "### Classification Accuracy"
   ]
  },
  {
   "cell_type": "markdown",
   "metadata": {
    "colab_type": "text",
    "id": "A3EWjqRwLCJ6"
   },
   "source": [
    "Classification Accuracy is what we usually mean, when we use the term accuracy. \n",
    "It is the ratio of number of correct predictions to the total number of input samples.\n",
    "$$Accuracy=\\frac{Number\\:of\\:Correct\\:predictions}{Total\\:number\\:of\\:predictions\\:made}$$\n",
    "\n",
    "It works well only if there are equal number of samples belonging to each class."
   ]
  },
  {
   "cell_type": "code",
   "execution_count": 95,
   "metadata": {
    "colab": {},
    "colab_type": "code",
    "id": "ZmNMImu5LCJ7"
   },
   "outputs": [
    {
     "data": {
      "text/plain": [
       "0.9833333333333333"
      ]
     },
     "execution_count": 95,
     "metadata": {},
     "output_type": "execute_result"
    }
   ],
   "source": [
    "### PUT HERE CODE THAT COMPUTES ACCURACY\n",
    "\n",
    "def accuracy(сomparison_table):\n",
    "  return сomparison_table['correct'].sum() / сomparison_table.shape[0]\n",
    "\n",
    "accuracy(сomparison_table)"
   ]
  },
  {
   "cell_type": "markdown",
   "metadata": {
    "colab_type": "text",
    "id": "I2G6sTGeLCJ-"
   },
   "source": [
    "### Confusion Matrix"
   ]
  },
  {
   "cell_type": "markdown",
   "metadata": {
    "colab_type": "text",
    "id": "3bhZ1399LCJ_"
   },
   "source": [
    "Confusion Matrix as the name suggests gives us a matrix as output and describes the complete performance of the model.\n",
    "\n",
    "Lets assume we have a binary classification problem. We have some samples belonging to two classes : YES or NO. Also, we have our own classifier which predicts a class for a given input sample. On testing our model on 165 samples ,we get the following result.\n",
    "n=165  \n",
    "\n",
    "  \n",
    "|       -         |   Predicted: NO   |   Predicted: YES  |\n",
    "|-----------------|-------------------|-------------------|\n",
    "|   Actual  NO    |         50        |        10         |\n",
    "|   Actual  YES   |         5         |       100         |\n",
    "\n",
    "$$Confusion Matrix$$\n",
    "\n",
    "There are 4 important terms :\n",
    "\n",
    "* [True Positives](https://en.wikipedia.org/wiki/Sensitivity_and_specificity) : The cases in which we predicted YES and the actual output was also YES.\n",
    "* [True Negatives](https://en.wikipedia.org/wiki/Sensitivity_and_specificity) : The cases in which we predicted NO and the actual output was NO.\n",
    "* [False Positives](https://en.wikipedia.org/wiki/False_positives_and_false_negatives#False_positive_error) : The cases in which we predicted YES and the actual output was NO.\n",
    "* [False Negatives](https://en.wikipedia.org/wiki/False_positives_and_false_negatives#False_negative_error) : The cases in which we predicted NO and the actual output was YES.\n",
    "\n",
    "Accuracy for the matrix can be calculated by taking average of the values lying across the “<b>main diagonal</b>” i.e\n",
    "\n",
    "$$Accuracy=\\frac{True\\:Positives+True\\:Negatives}{Total\\:Number\\:of\\:Samples}$$\n",
    "\n",
    "Confusion Matrix forms the basis for the other types of metrics."
   ]
  },
  {
   "cell_type": "code",
   "execution_count": 99,
   "metadata": {
    "colab": {},
    "colab_type": "code",
    "id": "JW3uXusoLCKA"
   },
   "outputs": [
    {
     "data": {
      "image/png": "[encoded data removed]",
      "text/plain": [
       "<Figure size 288x288 with 2 Axes>"
      ]
     },
     "metadata": {
      "needs_background": "light"
     },
     "output_type": "display_data"
    }
   ],
   "source": [
    "### PUT HERE CODE THAT SHOWS CONFUSION MATRIX\n",
    "\n",
    "def confusion_matrix(y_true, y_predicted):\n",
    "  confusion_matrix = pd.crosstab(y_true, y_predicted, rownames=['Actual'], colnames=['Predicted'])\n",
    "  return confusion_matrix\n",
    "\n",
    "def plot_confusion_matrix(y_true, y_predicted):\n",
    "  M = confusion_matrix(y_true, y_predicted)\n",
    "  plt.figure(figsize = (4, 4))\n",
    "  sn.heatmap(M, annot=True)\n",
    "\n",
    "plot_confusion_matrix(сomparison_table['labels'], сomparison_table['predicted'])"
   ]
  },
  {
   "cell_type": "markdown",
   "metadata": {
    "colab_type": "text",
    "id": "mhUf744HLCKD"
   },
   "source": [
    "### F1 Score"
   ]
  },
  {
   "cell_type": "markdown",
   "metadata": {
    "colab_type": "text",
    "id": "p1lqrMuMLCKE"
   },
   "source": [
    "<i>F1 Score is used to measure a test’s accuracy</i>\n",
    "\n",
    "F1 Score is the Harmonic Mean between precision and recall. The range for F1 Score is [0, 1]. It tells you how precise your classifier is (how many instances it classifies correctly), as well as how robust it is (it does not miss a significant number of instances).\n",
    "\n",
    "High precision but lower recall, gives you an extremely accurate, but it then misses a large number of instances that are difficult to classify. The greater the F1 Score, the better is the performance of our model. Mathematically, it can be expressed as :\n",
    "\n",
    "\n",
    "$$F1=2\\times\\frac{Precision\\times Recall}{Precision+Recall}$$\n",
    "\n",
    "F1 Score tries to find the balance between precision and recall.\n",
    "\n",
    "* <b>Precision</b> : It is the number of correct positive results divided by the number of positive results predicted by the classifier.\n",
    "$$Precision=\\frac{True\\:Positives}{True\\:Positives+False\\:Positives}$$\n",
    "\n",
    "\n",
    "* <b>Recall</b> : It is the number of correct positive results divided by the number of <b>all</b> relevant samples (all samples that should have been identified as positive).\n",
    "$$Recall=\\frac{True\\:Positives}{True\\:Positives+False\\:Negatives}$$"
   ]
  },
  {
   "cell_type": "code",
   "execution_count": 102,
   "metadata": {
    "colab": {},
    "colab_type": "code",
    "id": "qam4WgAImEWX"
   },
   "outputs": [
    {
     "name": "stdout",
     "output_type": "stream",
     "text": [
      "Accuracy: 0.9833333333333333\n",
      "Precision: 0.9583333333333334\n",
      "Recall: 1.0\n",
      "F1: 0.9787234042553191\n",
      "\n",
      "Accuracy (sklearn): 0.9833333333333333\n",
      "Precision (sklearn): 0.9583333333333334\n",
      "Recall (sklearn): 1.0\n",
      "F1 (sklearn): 0.9787234042553191\n"
     ]
    }
   ],
   "source": [
    "### CLASS PRACTICAL TASK 1\n",
    "### INSERT HERE COMPUTATIONS FOR: ACC RC RP F1\n",
    "### Do it from scratch and using scikit-learn api\n",
    "\n",
    "#From scratch\n",
    "def precision(confusion_matrix):\n",
    "  return confusion_matrix.loc[1, 1] / (confusion_matrix.loc[1, 1] + confusion_matrix.loc[0, 1])\n",
    "\n",
    "def recall(confusion_matrix):\n",
    "  return confusion_matrix.loc[1, 1] / (confusion_matrix.loc[1, 1] + confusion_matrix.loc[1, 0])\n",
    "\n",
    "def f1(precision, recall):\n",
    "  return 2 * (precision * recall) / (precision + recall)\n",
    "\n",
    "y_true = сomparison_table['labels']\n",
    "y_predicted = сomparison_table['predicted']\n",
    "M_confusion = confusion_matrix(y_true, y_predicted)\n",
    "\n",
    "print(f\"Accuracy: {accuracy(сomparison_table)}\")\n",
    "print(f\"Precision: {precision(M_confusion)}\")\n",
    "print(f\"Recall: {recall(M_confusion)}\")\n",
    "print(f\"F1: {f1(precision(M_confusion), recall(M_confusion))}\\n\")\n",
    "\n",
    "#Using scikit-learn api\n",
    "print(f\"Accuracy (sklearn): {accuracy_score(y_true, y_predicted)}\")\n",
    "print(f\"Precision (sklearn): {precision_score(y_true, y_predicted)}\")\n",
    "print(f\"Recall (sklearn): {recall_score(y_true, y_predicted)}\")\n",
    "print(f\"F1 (sklearn): {f1_score(y_true, y_predicted)}\")\n",
    "      \n",
    "### END YOUR BLOCK"
   ]
  },
  {
   "cell_type": "code",
   "execution_count": 103,
   "metadata": {
    "colab": {
     "base_uri": "https://localhost:8080/",
     "height": 283
    },
    "colab_type": "code",
    "id": "pMhZmTs1LCKF",
    "outputId": "317d6de6-3619-4936-886b-680492b56eec"
   },
   "outputs": [
    {
     "data": {
      "image/png": "[encoded data removed]",
      "text/plain": [
       "<Figure size 432x288 with 1 Axes>"
      ]
     },
     "metadata": {
      "needs_background": "light"
     },
     "output_type": "display_data"
    }
   ],
   "source": [
    "# generate 2d classification dataset\n",
    "X, y = make_moons(n_samples=100, noise=0.1)\n",
    "# scatter plot, dots colored by class value\n",
    "df = pd.DataFrame(dict(x=X[:,0], y=X[:,1], label=y))\n",
    "colors = {0:'red', 1:'blue'}\n",
    "fig, ax = plt.subplots()\n",
    "grouped = df.groupby('label')\n",
    "for key, group in grouped:\n",
    "    group.plot(ax=ax, kind='scatter', x='x', y='y', label=key, color=colors[key])\n",
    "plt.show()"
   ]
  },
  {
   "cell_type": "code",
   "execution_count": 11,
   "metadata": {
    "colab": {},
    "colab_type": "code",
    "id": "0nDesr2raayd"
   },
   "outputs": [],
   "source": [
    "### CLASS PRACTICAL TASK 2\n",
    "### CONSIDERING DATA PROVIDED ONE CELL ABOVE TRAIN AN SVM CLASSIFIER\n",
    "### AND PROVIDE MODEL EVALUATING AND CLASSES / DECISON BOUNDARY VISUALIZATION\n",
    "\n",
    "X_train, X_test, y_train, y_test = train_test_split(X, y, test_size=0.2)\n",
    "\n",
    "\n",
    "\n",
    "### END YOUR BLOCK"
   ]
  },
  {
   "cell_type": "code",
   "execution_count": 12,
   "metadata": {
    "colab": {
     "base_uri": "https://localhost:8080/",
     "height": 283
    },
    "colab_type": "code",
    "id": "Q7MOKOzeRyN4",
    "outputId": "18d99581-5e17-4ffa-f618-b3e2f104a007"
   },
   "outputs": [
    {
     "data": {
      "image/png": "[encoded data removed]",
      "text/plain": [
       "<Figure size 432x288 with 1 Axes>"
      ]
     },
     "metadata": {
      "needs_background": "light"
     },
     "output_type": "display_data"
    }
   ],
   "source": [
    "# generate 2d classification dataset\n",
    "X, y = make_circles(n_samples=100, noise=0.05)\n",
    "# scatter plot, dots colored by class value\n",
    "df = pd.DataFrame(dict(x=X[:,0], y=X[:,1], label=y))\n",
    "colors = {0:'red', 1:'blue'}\n",
    "fig, ax = plt.subplots()\n",
    "grouped = df.groupby('label')\n",
    "for key, group in grouped:\n",
    "    group.plot(ax=ax, kind='scatter', x='x', y='y', label=key, color=colors[key])\n",
    "plt.show()\n"
   ]
  },
  {
   "cell_type": "code",
   "execution_count": 13,
   "metadata": {
    "colab": {},
    "colab_type": "code",
    "id": "VURJZlUAXB0Q"
   },
   "outputs": [],
   "source": [
    "### CLASS PRACTICAL TASK 3\n",
    "### CONSIDERING DATA PROVIDED ONE CELL ABOVE TRAIN AN SVM CLASSIFIER\n",
    "### AND PROVIDE MODEL EVALUATING AND CLASSES AND DECISON BOUNDARY VISUALIZATION\n",
    "\n",
    "X_train, X_test, y_train, y_test = train_test_split(X, y, test_size=0.2)\n",
    "\n",
    "\n",
    "\n",
    "### END YOUR BLOCK"
   ]
  },
  {
   "cell_type": "markdown",
   "metadata": {
    "colab_type": "text",
    "id": "9Z0CYqVZr-gG"
   },
   "source": [
    "## Grid Search\n",
    "\n",
    "Accordint to [wikipedia](https://en.wikipedia.org/wiki/Hyperparameter_optimization#Grid_search) has following definition:\n",
    "\n",
    "*The traditional way of performing hyperparameter optimization has been grid search, or a parameter sweep, which is simply an exhaustive searching through a manually specified subset of the hyperparameter space of a learning algorithm. A grid search algorithm must be guided by some performance metric, typically measured by cross-validation on the training set or evaluation on a held-out validation set.*\n",
    "\n",
    "\n",
    "Learn about different kernels and hyperparameters for SVC in scikit-learn [here](https://scikit-learn.org/stable/modules/svm.html#svm-kernels)"
   ]
  },
  {
   "cell_type": "code",
   "execution_count": 14,
   "metadata": {
    "colab": {},
    "colab_type": "code",
    "id": "Z7Iwwk2Goz2A"
   },
   "outputs": [],
   "source": [
    "### CLASS PRACTICAL TASK 4 - Do here OR in separate nbook\n",
    "### ASSUMING DATA COME FROM UNKNOWN SOURCE AND HAVE UNKNOWN INTERNAL \n",
    "### DISTRIBUTION FORM WE NEED TO DESING A CUSTOM FUNCTION FOR GRID SEARCH\n",
    "### OVER SVM CLASSIFIERS WITH DIFFERENT KERNELS AND HYPERPARAMETERS.\n",
    "### FUNCTION MUST HAVE FOLLOWING PROTOTYPE\n",
    "def find_classifier_grid(X, y):\n",
    "  \n",
    "      \n",
    "        \n",
    "  \n",
    "  ### Here you should provide a loop \n",
    "  ### That goes throug 5 - 100 predefined options for SVM classifiers\n",
    "  ### with different kernels and additiona hypperparams\n",
    "  ### Train each model, evaluate, take the model with best f1 metric\n",
    "  ### and return the classifier instrance itself as 'clf'\n",
    "  ### and all SVM hyperparams including kernel inside 'hyperparams' dictionary\n",
    "\n",
    "  return clf, hyperparams\n",
    "\n",
    "### END YOUR BLOCK"
   ]
  },
  {
   "cell_type": "code",
   "execution_count": null,
   "metadata": {
    "colab": {},
    "colab_type": "code",
    "id": "BD_6PXB8cOXK"
   },
   "outputs": [],
   "source": []
  },
  {
   "cell_type": "code",
   "execution_count": null,
   "metadata": {},
   "outputs": [],
   "source": []
  },
  {
   "cell_type": "code",
   "execution_count": null,
   "metadata": {},
   "outputs": [],
   "source": []
  },
  {
   "cell_type": "code",
   "execution_count": null,
   "metadata": {},
   "outputs": [],
   "source": []
  }
 ],
 "metadata": {
  "colab": {
   "collapsed_sections": [],
   "name": "SVM GridSearch Practice.ipynb",
   "provenance": []
  },
  "kernelspec": {
   "display_name": "Python 3",
   "language": "python",
   "name": "python3"
  },
  "language_info": {
   "codemirror_mode": {
    "name": "ipython",
    "version": 3
   },
   "file_extension": ".py",
   "mimetype": "text/x-python",
   "name": "python",
   "nbconvert_exporter": "python",
   "pygments_lexer": "ipython3",
   "version": "3.6.8"
  }
 },
 "nbformat": 4,
 "nbformat_minor": 1
}
